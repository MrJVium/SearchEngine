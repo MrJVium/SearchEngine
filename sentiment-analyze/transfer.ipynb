{
 "cells": [
  {
   "cell_type": "markdown",
   "metadata": {},
   "source": [
    "# 打标csv\n",
    "\n",
    "|发布日期|点赞数|发布内容|情感倾向|\n",
    "|2020-04-04 22:13:03|22|致敬抗疫英雄！致敬消防英雄！缅怀同胞||\n",
    "\n",
    "\n",
    "# Mapreduce\n",
    "\n",
    "\n",
    "### 1. BayesCount \n",
    "- input格式\n",
    "e.g: 乐观\t重庆 人 真 的 巨 热情 啊        (空格 隔开)\n",
    "\n",
    "\n",
    "### 2. ClassifyCount\n",
    "- input格式\n",
    "e.g: 01月01日 23:58\t30\t开年大模型     ('\\t' 隔开)   「 datetime \\t likecount \\t sentence 」\n",
    "\n",
    "\n"
   ]
  },
  {
   "cell_type": "code",
   "execution_count": 36,
   "metadata": {},
   "outputs": [
    {
     "name": "stdout",
     "output_type": "stream",
     "text": [
      "{'0': '愤怒', '1': '悲伤', '2': '担忧', '3': '平静', '4': '乐观'}\n"
     ]
    }
   ],
   "source": [
    "'''\n",
    "0 愤怒\n",
    "1 悲伤\n",
    "2 担忧\n",
    "3 平静\n",
    "4 乐观\n",
    "'''\n",
    "sentiments = ['愤怒','悲伤','担忧','平静','乐观']\n",
    "sentiment = {}\n",
    "for k, v in enumerate(sentiments):\n",
    "    sentiment[str(k)] = v\n",
    "print(sentiment)"
   ]
  },
  {
   "cell_type": "code",
   "execution_count": 58,
   "metadata": {},
   "outputs": [
    {
     "name": "stdout",
     "output_type": "stream",
     "text": [
      "2020-01-01\n"
     ]
    }
   ],
   "source": [
    "import datetime\n",
    "s = '2020-01月01日 23:50'\n",
    "date_time = datetime.datetime.strptime(s,'%Y-%m月%d日 %H:%M')\n",
    "print(str(date_time.date()))\n",
    "\n",
    "# print(datetime.datetime.)"
   ]
  },
  {
   "cell_type": "code",
   "execution_count": 40,
   "metadata": {},
   "outputs": [],
   "source": [
    "import json\n",
    "import jieba\n",
    "import re"
   ]
  },
  {
   "cell_type": "markdown",
   "metadata": {},
   "source": [
    "## 生成打标用csv"
   ]
  },
  {
   "cell_type": "code",
   "execution_count": 13,
   "metadata": {},
   "outputs": [],
   "source": [
    "import csv\n",
    "path = r\"comments.csv\"\n",
    "with open(path, 'w') as f:\n",
    "    csv_write = csv.writer(f)\n",
    "    csv_head = [\"发布日期\",\"点赞数\",\"发布内容\",\"情感倾向\"]\n",
    "    csv_write.writerow(csv_head)"
   ]
  },
  {
   "cell_type": "code",
   "execution_count": null,
   "metadata": {},
   "outputs": [],
   "source": [
    "with open('./Comments.json', 'r') as f:\n",
    "    path  = r\"comments.csv\"\n",
    "    with open(path, 'a+') as c:\n",
    "        csv_write = csv.writer(c)\n",
    "        line = f.readline()\n",
    "        while line:\n",
    "            s = json.loads(line)\n",
    "            if \"text\" in s:\n",
    "                data_row = [s['created_at'],s.get('like_count',0),s['text'],None]\n",
    "                csv_write.writerow(data_row)\n",
    "            line = f.readline()"
   ]
  },
  {
   "cell_type": "markdown",
   "metadata": {},
   "source": [
    "## 将打标后的csv处理成input格式"
   ]
  },
  {
   "cell_type": "code",
   "execution_count": 39,
   "metadata": {},
   "outputs": [],
   "source": [
    "path = r'traindata_jmr.csv'\n",
    "with open(path,\"r\") as f:\n",
    "    csv_read = csv.reader(f)\n",
    "    with open('train.txt', 'w') as t:\n",
    "        for i, line in enumerate(csv_read):\n",
    "            if i > 0:\n",
    "                res = re.sub(r'//@.*?:', \"\", line[1])      # 非贪婪 正则去除转发 //@XXX:\n",
    "                senType = sentiment[line[0]]\n",
    "                comment = \" \".join(jieba.cut(res))\n",
    "                t.write(senType+' '+comment+'\\n')"
   ]
  },
  {
   "cell_type": "code",
   "execution_count": 33,
   "metadata": {},
   "outputs": [
    {
     "name": "stdout",
     "output_type": "stream",
     "text": [
      "hhhhhzzzz\n"
     ]
    }
   ],
   "source": [
    "s = re.sub(r'//@.*?:', \"\", \"//@1231232141:hhhhh//@aaas:zzzz\")\n",
    "print(s)"
   ]
  },
  {
   "cell_type": "code",
   "execution_count": 44,
   "metadata": {},
   "outputs": [],
   "source": [
    "with open('./Comments.json', 'r') as f:\n",
    "    with open('comment4.txt', 'w') as c:\n",
    "        line = f.readline()\n",
    "        while line:\n",
    "            s = json.loads(line)\n",
    "            if \"text\" in s:\n",
    "                c.write(s['created_at'].split(' ')[0]+'\\t'+str(s.get('like_count',0))+'\\t'+s['text']+'\\n')\n",
    "            line = f.readline()"
   ]
  },
  {
   "cell_type": "code",
   "execution_count": 64,
   "metadata": {},
   "outputs": [
    {
     "name": "stdout",
     "output_type": "stream",
     "text": [
      "True\n"
     ]
    }
   ],
   "source": [
    "s1 = datetime.datetime.strptime('2020-02-01','%Y-%m-%d').date()\n",
    "s2 = datetime.datetime.strptime('2020-02-02','%Y-%m-%d').date()\n",
    "print(s1<s2)"
   ]
  },
  {
   "cell_type": "code",
   "execution_count": 67,
   "metadata": {},
   "outputs": [],
   "source": [
    "with open('./nCoV_1000k_train_unlabled.csv', 'r') as f:\n",
    "    csv_read = csv.reader(f)\n",
    "    with open('comment1.txt', 'w') as c:\n",
    "        with open('comment2.txt', 'w') as t:\n",
    "            for i, line in enumerate(csv_read):\n",
    "                if i > 0:\n",
    "                    time = '2020-'+line[0]\n",
    "                    date_time = datetime.datetime.strptime(time,'%Y-%m月%d日 %H:%M').date()\n",
    "                    if date_time < s1:\n",
    "                        c.write(str(date_time)+'\\t'+line[1]+'\\n')\n",
    "                    else:\n",
    "                        t.write(str(date_time)+'\\t'+line[1]+'\\n')"
   ]
  },
  {
   "cell_type": "code",
   "execution_count": null,
   "metadata": {},
   "outputs": [],
   "source": []
  }
 ],
 "metadata": {
  "kernelspec": {
   "display_name": "Python 3",
   "language": "python",
   "name": "python3"
  },
  "language_info": {
   "codemirror_mode": {
    "name": "ipython",
    "version": 3
   },
   "file_extension": ".py",
   "mimetype": "text/x-python",
   "name": "python",
   "nbconvert_exporter": "python",
   "pygments_lexer": "ipython3",
   "version": "3.7.4"
  }
 },
 "nbformat": 4,
 "nbformat_minor": 2
}
